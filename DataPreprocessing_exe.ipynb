{
  "nbformat": 4,
  "nbformat_minor": 0,
  "metadata": {
    "colab": {
      "name": "DataPreprocessing-exe.ipynb",
      "provenance": [],
      "collapsed_sections": []
    },
    "kernelspec": {
      "name": "python3",
      "display_name": "Python 3"
    },
    "language_info": {
      "name": "python"
    }
  },
  "cells": [
    {
      "cell_type": "code",
      "metadata": {
        "id": "6bXCF5kk2JA6"
      },
      "source": [
        "import pandas as pd\n",
        "import numpy as np"
      ],
      "execution_count": 64,
      "outputs": []
    },
    {
      "cell_type": "code",
      "metadata": {
        "id": "57eBY0Po3q8t"
      },
      "source": [
        "dataset=pd.read_csv('/content/cars.csv')"
      ],
      "execution_count": 65,
      "outputs": []
    },
    {
      "cell_type": "code",
      "metadata": {
        "colab": {
          "base_uri": "https://localhost:8080/",
          "height": 203
        },
        "id": "KHNSbm-44YRv",
        "outputId": "a9d53c17-1878-44c5-bc30-ae883cdca8c7"
      },
      "source": [
        "dataset.head()"
      ],
      "execution_count": 66,
      "outputs": [
        {
          "output_type": "execute_result",
          "data": {
            "text/html": [
              "<div>\n",
              "<style scoped>\n",
              "    .dataframe tbody tr th:only-of-type {\n",
              "        vertical-align: middle;\n",
              "    }\n",
              "\n",
              "    .dataframe tbody tr th {\n",
              "        vertical-align: top;\n",
              "    }\n",
              "\n",
              "    .dataframe thead th {\n",
              "        text-align: right;\n",
              "    }\n",
              "</style>\n",
              "<table border=\"1\" class=\"dataframe\">\n",
              "  <thead>\n",
              "    <tr style=\"text-align: right;\">\n",
              "      <th></th>\n",
              "      <th>mpg</th>\n",
              "      <th>cylinders</th>\n",
              "      <th>cubicinches</th>\n",
              "      <th>hp</th>\n",
              "      <th>weightlbs</th>\n",
              "      <th>time-to-60</th>\n",
              "      <th>year</th>\n",
              "      <th>brand</th>\n",
              "    </tr>\n",
              "  </thead>\n",
              "  <tbody>\n",
              "    <tr>\n",
              "      <th>0</th>\n",
              "      <td>14.0</td>\n",
              "      <td>8.0</td>\n",
              "      <td>350</td>\n",
              "      <td>165.0</td>\n",
              "      <td>4209</td>\n",
              "      <td>12</td>\n",
              "      <td>1972</td>\n",
              "      <td>US.</td>\n",
              "    </tr>\n",
              "    <tr>\n",
              "      <th>1</th>\n",
              "      <td>31.9</td>\n",
              "      <td>4.0</td>\n",
              "      <td>89</td>\n",
              "      <td>NaN</td>\n",
              "      <td>1925</td>\n",
              "      <td>14</td>\n",
              "      <td>1980</td>\n",
              "      <td>Europe.</td>\n",
              "    </tr>\n",
              "    <tr>\n",
              "      <th>2</th>\n",
              "      <td>17.0</td>\n",
              "      <td>8.0</td>\n",
              "      <td>302</td>\n",
              "      <td>140.0</td>\n",
              "      <td>3333</td>\n",
              "      <td>11</td>\n",
              "      <td>1971</td>\n",
              "      <td>US.</td>\n",
              "    </tr>\n",
              "    <tr>\n",
              "      <th>3</th>\n",
              "      <td>15.0</td>\n",
              "      <td>8.0</td>\n",
              "      <td>NaN</td>\n",
              "      <td>150.0</td>\n",
              "      <td>3761</td>\n",
              "      <td>10</td>\n",
              "      <td>1971</td>\n",
              "      <td>US.</td>\n",
              "    </tr>\n",
              "    <tr>\n",
              "      <th>4</th>\n",
              "      <td>30.5</td>\n",
              "      <td>4.0</td>\n",
              "      <td>98</td>\n",
              "      <td>63.0</td>\n",
              "      <td>2051</td>\n",
              "      <td>17</td>\n",
              "      <td>1978</td>\n",
              "      <td>US.</td>\n",
              "    </tr>\n",
              "  </tbody>\n",
              "</table>\n",
              "</div>"
            ],
            "text/plain": [
              "    mpg   cylinders  cubicinches  ...   time-to-60  year     brand\n",
              "0  14.0         8.0          350  ...           12  1972       US.\n",
              "1  31.9         4.0           89  ...           14  1980   Europe.\n",
              "2  17.0         8.0          302  ...           11  1971       US.\n",
              "3  15.0         8.0          NaN  ...           10  1971       US.\n",
              "4  30.5         4.0           98  ...           17  1978       US.\n",
              "\n",
              "[5 rows x 8 columns]"
            ]
          },
          "metadata": {},
          "execution_count": 66
        }
      ]
    },
    {
      "cell_type": "code",
      "metadata": {
        "colab": {
          "base_uri": "https://localhost:8080/",
          "height": 0
        },
        "id": "02uOM7xl-IUf",
        "outputId": "1ff3b31d-ce15-42ad-a18b-607a5464dbed"
      },
      "source": [
        "dataset.isnull().sum()"
      ],
      "execution_count": 67,
      "outputs": [
        {
          "output_type": "execute_result",
          "data": {
            "text/plain": [
              "mpg             0\n",
              " cylinders      1\n",
              " cubicinches    1\n",
              " hp             1\n",
              " weightlbs      0\n",
              " time-to-60     0\n",
              " year           0\n",
              " brand          0\n",
              "dtype: int64"
            ]
          },
          "metadata": {},
          "execution_count": 67
        }
      ]
    },
    {
      "cell_type": "code",
      "metadata": {
        "id": "jJEXlpKX-QYu"
      },
      "source": [
        "x=dataset.iloc[:,:-1].values"
      ],
      "execution_count": 68,
      "outputs": []
    },
    {
      "cell_type": "code",
      "metadata": {
        "colab": {
          "base_uri": "https://localhost:8080/",
          "height": 0
        },
        "id": "LelqkgIk-Vjn",
        "outputId": "126e4d75-0a0f-461b-8438-95d2b69aabd4"
      },
      "source": [
        "x"
      ],
      "execution_count": 69,
      "outputs": [
        {
          "output_type": "execute_result",
          "data": {
            "text/plain": [
              "array([[14.0, 8.0, '350', ..., '4209', 12, 1972],\n",
              "       [31.9, 4.0, '89', ..., '1925', 14, 1980],\n",
              "       [17.0, 8.0, '302', ..., '3333', 11, 1971],\n",
              "       ...,\n",
              "       [22.0, 6.0, '232', ..., '2835', 15, 1983],\n",
              "       [18.0, 6.0, '232', ..., '3288', 16, 1972],\n",
              "       [22.0, 6.0, '250', ..., '3353', 15, 1977]], dtype=object)"
            ]
          },
          "metadata": {},
          "execution_count": 69
        }
      ]
    },
    {
      "cell_type": "code",
      "metadata": {
        "id": "13VG5iRc-sJb"
      },
      "source": [
        "y=dataset.iloc[:,7:].values"
      ],
      "execution_count": 70,
      "outputs": []
    },
    {
      "cell_type": "code",
      "metadata": {
        "colab": {
          "base_uri": "https://localhost:8080/",
          "height": 0
        },
        "id": "11g1i7Uf-6rc",
        "outputId": "7629316c-bda7-4c0d-a917-3199add0f7e4"
      },
      "source": [
        "y"
      ],
      "execution_count": 71,
      "outputs": [
        {
          "output_type": "execute_result",
          "data": {
            "text/plain": [
              "array([[' US.'],\n",
              "       [' Europe.'],\n",
              "       [' US.'],\n",
              "       [' US.'],\n",
              "       [' US.'],\n",
              "       [' US.'],\n",
              "       [' US.'],\n",
              "       [' US.'],\n",
              "       [' Europe.'],\n",
              "       [' Japan.'],\n",
              "       [' Japan.'],\n",
              "       [' Europe.'],\n",
              "       [' US.'],\n",
              "       [' US.'],\n",
              "       [' US.'],\n",
              "       [' US.'],\n",
              "       [' Japan.'],\n",
              "       [' US.'],\n",
              "       [' Japan.'],\n",
              "       [' Europe.'],\n",
              "       [' Japan.'],\n",
              "       [' Europe.'],\n",
              "       [' US.'],\n",
              "       [' US.'],\n",
              "       [' Japan.'],\n",
              "       [' Japan.'],\n",
              "       [' Japan.'],\n",
              "       [' US.'],\n",
              "       [' US.'],\n",
              "       [' US.'],\n",
              "       [' Japan.'],\n",
              "       [' US.'],\n",
              "       [' Japan.'],\n",
              "       [' US.'],\n",
              "       [' Japan.'],\n",
              "       [' US.'],\n",
              "       [' Europe.'],\n",
              "       [' Japan.'],\n",
              "       [' US.'],\n",
              "       [' US.'],\n",
              "       [' US.'],\n",
              "       [' US.'],\n",
              "       [' US.'],\n",
              "       [' US.'],\n",
              "       [' US.'],\n",
              "       [' Japan.'],\n",
              "       [' US.'],\n",
              "       [' US.'],\n",
              "       [' Europe.'],\n",
              "       [' US.'],\n",
              "       [' US.'],\n",
              "       [' Europe.'],\n",
              "       [' US.'],\n",
              "       [' Europe.'],\n",
              "       [' US.'],\n",
              "       [' US.'],\n",
              "       [' Japan.'],\n",
              "       [' US.'],\n",
              "       [' Europe.'],\n",
              "       [' US.'],\n",
              "       [' US.'],\n",
              "       [' Japan.'],\n",
              "       [' Japan.'],\n",
              "       [' Japan.'],\n",
              "       [' US.'],\n",
              "       [' US.'],\n",
              "       [' Europe.'],\n",
              "       [' Japan.'],\n",
              "       [' Europe.'],\n",
              "       [' US.'],\n",
              "       [' US.'],\n",
              "       [' US.'],\n",
              "       [' Japan.'],\n",
              "       [' Japan.'],\n",
              "       [' Europe.'],\n",
              "       [' US.'],\n",
              "       [' US.'],\n",
              "       [' Japan.'],\n",
              "       [' Europe.'],\n",
              "       [' Japan.'],\n",
              "       [' US.'],\n",
              "       [' US.'],\n",
              "       [' US.'],\n",
              "       [' Europe.'],\n",
              "       [' Europe.'],\n",
              "       [' Japan.'],\n",
              "       [' US.'],\n",
              "       [' US.'],\n",
              "       [' US.'],\n",
              "       [' US.'],\n",
              "       [' Japan.'],\n",
              "       [' Japan.'],\n",
              "       [' US.'],\n",
              "       [' US.'],\n",
              "       [' US.'],\n",
              "       [' US.'],\n",
              "       [' US.'],\n",
              "       [' US.'],\n",
              "       [' US.'],\n",
              "       [' US.'],\n",
              "       [' US.'],\n",
              "       [' US.'],\n",
              "       [' US.'],\n",
              "       [' US.'],\n",
              "       [' Japan.'],\n",
              "       [' US.'],\n",
              "       [' Europe.'],\n",
              "       [' Europe.'],\n",
              "       [' Europe.'],\n",
              "       [' US.'],\n",
              "       [' Japan.'],\n",
              "       [' Europe.'],\n",
              "       [' US.'],\n",
              "       [' Japan.'],\n",
              "       [' Europe.'],\n",
              "       [' US.'],\n",
              "       [' US.'],\n",
              "       [' US.'],\n",
              "       [' US.'],\n",
              "       [' US.'],\n",
              "       [' Europe.'],\n",
              "       [' Europe.'],\n",
              "       [' US.'],\n",
              "       [' US.'],\n",
              "       [' Europe.'],\n",
              "       [' US.'],\n",
              "       [' US.'],\n",
              "       [' US.'],\n",
              "       [' Europe.'],\n",
              "       [' US.'],\n",
              "       [' Europe.'],\n",
              "       [' US.'],\n",
              "       [' US.'],\n",
              "       [' US.'],\n",
              "       [' US.'],\n",
              "       [' US.'],\n",
              "       [' US.'],\n",
              "       [' US.'],\n",
              "       [' Europe.'],\n",
              "       [' Europe.'],\n",
              "       [' US.'],\n",
              "       [' Japan.'],\n",
              "       [' Japan.'],\n",
              "       [' Japan.'],\n",
              "       [' US.'],\n",
              "       [' Europe.'],\n",
              "       [' US.'],\n",
              "       [' US.'],\n",
              "       [' US.'],\n",
              "       [' US.'],\n",
              "       [' Japan.'],\n",
              "       [' Japan.'],\n",
              "       [' US.'],\n",
              "       [' US.'],\n",
              "       [' Europe.'],\n",
              "       [' US.'],\n",
              "       [' Japan.'],\n",
              "       [' Japan.'],\n",
              "       [' US.'],\n",
              "       [' Europe.'],\n",
              "       [' US.'],\n",
              "       [' US.'],\n",
              "       [' US.'],\n",
              "       [' US.'],\n",
              "       [' Europe.'],\n",
              "       [' US.'],\n",
              "       [' US.'],\n",
              "       [' US.'],\n",
              "       [' Japan.'],\n",
              "       [' US.'],\n",
              "       [' Japan.'],\n",
              "       [' Europe.'],\n",
              "       [' Europe.'],\n",
              "       [' US.'],\n",
              "       [' US.'],\n",
              "       [' Europe.'],\n",
              "       [' US.'],\n",
              "       [' US.'],\n",
              "       [' US.'],\n",
              "       [' Japan.'],\n",
              "       [' US.'],\n",
              "       [' Japan.'],\n",
              "       [' US.'],\n",
              "       [' US.'],\n",
              "       [' US.'],\n",
              "       [' US.'],\n",
              "       [' US.'],\n",
              "       [' US.'],\n",
              "       [' US.'],\n",
              "       [' US.'],\n",
              "       [' US.'],\n",
              "       [' US.'],\n",
              "       [' US.'],\n",
              "       [' US.'],\n",
              "       [' US.'],\n",
              "       [' Europe.'],\n",
              "       [' US.'],\n",
              "       [' Europe.'],\n",
              "       [' Europe.'],\n",
              "       [' Japan.'],\n",
              "       [' Europe.'],\n",
              "       [' US.'],\n",
              "       [' US.'],\n",
              "       [' US.'],\n",
              "       [' US.'],\n",
              "       [' US.'],\n",
              "       [' Japan.'],\n",
              "       [' US.'],\n",
              "       [' US.'],\n",
              "       [' Japan.'],\n",
              "       [' Japan.'],\n",
              "       [' US.'],\n",
              "       [' Japan.'],\n",
              "       [' Europe.'],\n",
              "       [' US.'],\n",
              "       [' Japan.'],\n",
              "       [' Japan.'],\n",
              "       [' US.'],\n",
              "       [' US.'],\n",
              "       [' US.'],\n",
              "       [' US.'],\n",
              "       [' Europe.'],\n",
              "       [' US.'],\n",
              "       [' Europe.'],\n",
              "       [' US.'],\n",
              "       [' Japan.'],\n",
              "       [' US.'],\n",
              "       [' Japan.'],\n",
              "       [' US.'],\n",
              "       [' US.'],\n",
              "       [' US.'],\n",
              "       [' US.'],\n",
              "       [' US.'],\n",
              "       [' US.'],\n",
              "       [' Europe.'],\n",
              "       [' Europe.'],\n",
              "       [' US.'],\n",
              "       [' US.'],\n",
              "       [' US.'],\n",
              "       [' US.'],\n",
              "       [' US.'],\n",
              "       [' US.'],\n",
              "       [' US.'],\n",
              "       [' Europe.'],\n",
              "       [' US.'],\n",
              "       [' US.'],\n",
              "       [' US.'],\n",
              "       [' Europe.'],\n",
              "       [' Japan.'],\n",
              "       [' US.'],\n",
              "       [' US.'],\n",
              "       [' Europe.'],\n",
              "       [' Europe.'],\n",
              "       [' US.'],\n",
              "       [' US.'],\n",
              "       [' Japan.'],\n",
              "       [' US.'],\n",
              "       [' Japan.'],\n",
              "       [' US.'],\n",
              "       [' US.'],\n",
              "       [' US.']], dtype=object)"
            ]
          },
          "metadata": {},
          "execution_count": 71
        }
      ]
    },
    {
      "cell_type": "code",
      "metadata": {
        "id": "L4TMvsiu_HDT"
      },
      "source": [
        "from sklearn.impute import SimpleImputer"
      ],
      "execution_count": 72,
      "outputs": []
    },
    {
      "cell_type": "code",
      "metadata": {
        "id": "1fKyk1H1_MEG"
      },
      "source": [
        "imp=SimpleImputer(missing_values=np.nan,strategy='most_frequent')\n",
        "x[:,1:6]=imp.fit_transform(x[:,1:6])"
      ],
      "execution_count": 73,
      "outputs": []
    },
    {
      "cell_type": "code",
      "metadata": {
        "colab": {
          "base_uri": "https://localhost:8080/",
          "height": 0
        },
        "id": "UH1S_rdsAHEu",
        "outputId": "4a72b37e-3ab6-428d-ecb7-71e7d5a4d530"
      },
      "source": [
        "x"
      ],
      "execution_count": 74,
      "outputs": [
        {
          "output_type": "execute_result",
          "data": {
            "text/plain": [
              "array([[14.0, 8.0, '350', ..., '4209', 12, 1972],\n",
              "       [31.9, 4.0, '89', ..., '1925', 14, 1980],\n",
              "       [17.0, 8.0, '302', ..., '3333', 11, 1971],\n",
              "       ...,\n",
              "       [22.0, 6.0, '232', ..., '2835', 15, 1983],\n",
              "       [18.0, 6.0, '232', ..., '3288', 16, 1972],\n",
              "       [22.0, 6.0, '250', ..., '3353', 15, 1977]], dtype=object)"
            ]
          },
          "metadata": {},
          "execution_count": 74
        }
      ]
    },
    {
      "cell_type": "code",
      "metadata": {
        "id": "egdO-GWEAnMc"
      },
      "source": [
        "from sklearn.preprocessing import LabelEncoder\n",
        "LE=LabelEncoder()\n",
        "x[:,0]=LE.fit_transform(x[:,0])"
      ],
      "execution_count": 47,
      "outputs": []
    },
    {
      "cell_type": "code",
      "metadata": {
        "colab": {
          "base_uri": "https://localhost:8080/",
          "height": 0
        },
        "id": "3tMCwkmFCMnf",
        "outputId": "ad37a392-50bd-4d86-d1aa-7ce75d730690"
      },
      "source": [
        "x"
      ],
      "execution_count": 48,
      "outputs": [
        {
          "output_type": "execute_result",
          "data": {
            "text/plain": [
              "array([[4, 8.0, '350', ..., '4209', 12, 1972],\n",
              "       [69, 4.0, '89', ..., '1925', 14, 1980],\n",
              "       [12, 8.0, '302', ..., '3333', 11, 1971],\n",
              "       ...,\n",
              "       [35, 6.0, '232', ..., '2835', 15, 1983],\n",
              "       [16, 6.0, '232', ..., '3288', 16, 1972],\n",
              "       [35, 6.0, '250', ..., '3353', 15, 1977]], dtype=object)"
            ]
          },
          "metadata": {},
          "execution_count": 48
        }
      ]
    },
    {
      "cell_type": "code",
      "metadata": {
        "colab": {
          "base_uri": "https://localhost:8080/",
          "height": 0
        },
        "id": "h7OizK_8COda",
        "outputId": "19e5c04b-7ef7-4879-9bcc-2ada28490f8f"
      },
      "source": [
        "y"
      ],
      "execution_count": 49,
      "outputs": [
        {
          "output_type": "execute_result",
          "data": {
            "text/plain": [
              "array([[' US.'],\n",
              "       [' Europe.'],\n",
              "       [' US.'],\n",
              "       [' US.'],\n",
              "       [' US.'],\n",
              "       [' US.'],\n",
              "       [' US.'],\n",
              "       [' US.'],\n",
              "       [' Europe.'],\n",
              "       [' Japan.'],\n",
              "       [' Japan.'],\n",
              "       [' Europe.'],\n",
              "       [' US.'],\n",
              "       [' US.'],\n",
              "       [' US.'],\n",
              "       [' US.'],\n",
              "       [' Japan.'],\n",
              "       [' US.'],\n",
              "       [' Japan.'],\n",
              "       [' Europe.'],\n",
              "       [' Japan.'],\n",
              "       [' Europe.'],\n",
              "       [' US.'],\n",
              "       [' US.'],\n",
              "       [' Japan.'],\n",
              "       [' Japan.'],\n",
              "       [' Japan.'],\n",
              "       [' US.'],\n",
              "       [' US.'],\n",
              "       [' US.'],\n",
              "       [' Japan.'],\n",
              "       [' US.'],\n",
              "       [' Japan.'],\n",
              "       [' US.'],\n",
              "       [' Japan.'],\n",
              "       [' US.'],\n",
              "       [' Europe.'],\n",
              "       [' Japan.'],\n",
              "       [' US.'],\n",
              "       [' US.'],\n",
              "       [' US.'],\n",
              "       [' US.'],\n",
              "       [' US.'],\n",
              "       [' US.'],\n",
              "       [' US.'],\n",
              "       [' Japan.'],\n",
              "       [' US.'],\n",
              "       [' US.'],\n",
              "       [' Europe.'],\n",
              "       [' US.'],\n",
              "       [' US.'],\n",
              "       [' Europe.'],\n",
              "       [' US.'],\n",
              "       [' Europe.'],\n",
              "       [' US.'],\n",
              "       [' US.'],\n",
              "       [' Japan.'],\n",
              "       [' US.'],\n",
              "       [' Europe.'],\n",
              "       [' US.'],\n",
              "       [' US.'],\n",
              "       [' Japan.'],\n",
              "       [' Japan.'],\n",
              "       [' Japan.'],\n",
              "       [' US.'],\n",
              "       [' US.'],\n",
              "       [' Europe.'],\n",
              "       [' Japan.'],\n",
              "       [' Europe.'],\n",
              "       [' US.'],\n",
              "       [' US.'],\n",
              "       [' US.'],\n",
              "       [' Japan.'],\n",
              "       [' Japan.'],\n",
              "       [' Europe.'],\n",
              "       [' US.'],\n",
              "       [' US.'],\n",
              "       [' Japan.'],\n",
              "       [' Europe.'],\n",
              "       [' Japan.'],\n",
              "       [' US.'],\n",
              "       [' US.'],\n",
              "       [' US.'],\n",
              "       [' Europe.'],\n",
              "       [' Europe.'],\n",
              "       [' Japan.'],\n",
              "       [' US.'],\n",
              "       [' US.'],\n",
              "       [' US.'],\n",
              "       [' US.'],\n",
              "       [' Japan.'],\n",
              "       [' Japan.'],\n",
              "       [' US.'],\n",
              "       [' US.'],\n",
              "       [' US.'],\n",
              "       [' US.'],\n",
              "       [' US.'],\n",
              "       [' US.'],\n",
              "       [' US.'],\n",
              "       [' US.'],\n",
              "       [' US.'],\n",
              "       [' US.'],\n",
              "       [' US.'],\n",
              "       [' US.'],\n",
              "       [' Japan.'],\n",
              "       [' US.'],\n",
              "       [' Europe.'],\n",
              "       [' Europe.'],\n",
              "       [' Europe.'],\n",
              "       [' US.'],\n",
              "       [' Japan.'],\n",
              "       [' Europe.'],\n",
              "       [' US.'],\n",
              "       [' Japan.'],\n",
              "       [' Europe.'],\n",
              "       [' US.'],\n",
              "       [' US.'],\n",
              "       [' US.'],\n",
              "       [' US.'],\n",
              "       [' US.'],\n",
              "       [' Europe.'],\n",
              "       [' Europe.'],\n",
              "       [' US.'],\n",
              "       [' US.'],\n",
              "       [' Europe.'],\n",
              "       [' US.'],\n",
              "       [' US.'],\n",
              "       [' US.'],\n",
              "       [' Europe.'],\n",
              "       [' US.'],\n",
              "       [' Europe.'],\n",
              "       [' US.'],\n",
              "       [' US.'],\n",
              "       [' US.'],\n",
              "       [' US.'],\n",
              "       [' US.'],\n",
              "       [' US.'],\n",
              "       [' US.'],\n",
              "       [' Europe.'],\n",
              "       [' Europe.'],\n",
              "       [' US.'],\n",
              "       [' Japan.'],\n",
              "       [' Japan.'],\n",
              "       [' Japan.'],\n",
              "       [' US.'],\n",
              "       [' Europe.'],\n",
              "       [' US.'],\n",
              "       [' US.'],\n",
              "       [' US.'],\n",
              "       [' US.'],\n",
              "       [' Japan.'],\n",
              "       [' Japan.'],\n",
              "       [' US.'],\n",
              "       [' US.'],\n",
              "       [' Europe.'],\n",
              "       [' US.'],\n",
              "       [' Japan.'],\n",
              "       [' Japan.'],\n",
              "       [' US.'],\n",
              "       [' Europe.'],\n",
              "       [' US.'],\n",
              "       [' US.'],\n",
              "       [' US.'],\n",
              "       [' US.'],\n",
              "       [' Europe.'],\n",
              "       [' US.'],\n",
              "       [' US.'],\n",
              "       [' US.'],\n",
              "       [' Japan.'],\n",
              "       [' US.'],\n",
              "       [' Japan.'],\n",
              "       [' Europe.'],\n",
              "       [' Europe.'],\n",
              "       [' US.'],\n",
              "       [' US.'],\n",
              "       [' Europe.'],\n",
              "       [' US.'],\n",
              "       [' US.'],\n",
              "       [' US.'],\n",
              "       [' Japan.'],\n",
              "       [' US.'],\n",
              "       [' Japan.'],\n",
              "       [' US.'],\n",
              "       [' US.'],\n",
              "       [' US.'],\n",
              "       [' US.'],\n",
              "       [' US.'],\n",
              "       [' US.'],\n",
              "       [' US.'],\n",
              "       [' US.'],\n",
              "       [' US.'],\n",
              "       [' US.'],\n",
              "       [' US.'],\n",
              "       [' US.'],\n",
              "       [' US.'],\n",
              "       [' Europe.'],\n",
              "       [' US.'],\n",
              "       [' Europe.'],\n",
              "       [' Europe.'],\n",
              "       [' Japan.'],\n",
              "       [' Europe.'],\n",
              "       [' US.'],\n",
              "       [' US.'],\n",
              "       [' US.'],\n",
              "       [' US.'],\n",
              "       [' US.'],\n",
              "       [' Japan.'],\n",
              "       [' US.'],\n",
              "       [' US.'],\n",
              "       [' Japan.'],\n",
              "       [' Japan.'],\n",
              "       [' US.'],\n",
              "       [' Japan.'],\n",
              "       [' Europe.'],\n",
              "       [' US.'],\n",
              "       [' Japan.'],\n",
              "       [' Japan.'],\n",
              "       [' US.'],\n",
              "       [' US.'],\n",
              "       [' US.'],\n",
              "       [' US.'],\n",
              "       [' Europe.'],\n",
              "       [' US.'],\n",
              "       [' Europe.'],\n",
              "       [' US.'],\n",
              "       [' Japan.'],\n",
              "       [' US.'],\n",
              "       [' Japan.'],\n",
              "       [' US.'],\n",
              "       [' US.'],\n",
              "       [' US.'],\n",
              "       [' US.'],\n",
              "       [' US.'],\n",
              "       [' US.'],\n",
              "       [' Europe.'],\n",
              "       [' Europe.'],\n",
              "       [' US.'],\n",
              "       [' US.'],\n",
              "       [' US.'],\n",
              "       [' US.'],\n",
              "       [' US.'],\n",
              "       [' US.'],\n",
              "       [' US.'],\n",
              "       [' Europe.'],\n",
              "       [' US.'],\n",
              "       [' US.'],\n",
              "       [' US.'],\n",
              "       [' Europe.'],\n",
              "       [' Japan.'],\n",
              "       [' US.'],\n",
              "       [' US.'],\n",
              "       [' Europe.'],\n",
              "       [' Europe.'],\n",
              "       [' US.'],\n",
              "       [' US.'],\n",
              "       [' Japan.'],\n",
              "       [' US.'],\n",
              "       [' Japan.'],\n",
              "       [' US.'],\n",
              "       [' US.'],\n",
              "       [' US.']], dtype=object)"
            ]
          },
          "metadata": {},
          "execution_count": 49
        }
      ]
    },
    {
      "cell_type": "code",
      "metadata": {
        "colab": {
          "base_uri": "https://localhost:8080/",
          "height": 0
        },
        "id": "bccRzHhUCTv9",
        "outputId": "9aaf7a97-7266-4589-fa4b-8b48d5e9236c"
      },
      "source": [
        "y=LE.fit_transform(y)"
      ],
      "execution_count": 50,
      "outputs": [
        {
          "output_type": "stream",
          "name": "stderr",
          "text": [
            "/usr/local/lib/python3.7/dist-packages/sklearn/preprocessing/_label.py:251: DataConversionWarning: A column-vector y was passed when a 1d array was expected. Please change the shape of y to (n_samples, ), for example using ravel().\n",
            "  y = column_or_1d(y, warn=True)\n"
          ]
        }
      ]
    },
    {
      "cell_type": "code",
      "metadata": {
        "colab": {
          "base_uri": "https://localhost:8080/",
          "height": 0
        },
        "id": "qQGXPb3FCZjt",
        "outputId": "9362c4da-fa6f-4a98-bdca-130a4cd6cca8"
      },
      "source": [
        "y"
      ],
      "execution_count": 51,
      "outputs": [
        {
          "output_type": "execute_result",
          "data": {
            "text/plain": [
              "array([2, 0, 2, 2, 2, 2, 2, 2, 0, 1, 1, 0, 2, 2, 2, 2, 1, 2, 1, 0, 1, 0,\n",
              "       2, 2, 1, 1, 1, 2, 2, 2, 1, 2, 1, 2, 1, 2, 0, 1, 2, 2, 2, 2, 2, 2,\n",
              "       2, 1, 2, 2, 0, 2, 2, 0, 2, 0, 2, 2, 1, 2, 0, 2, 2, 1, 1, 1, 2, 2,\n",
              "       0, 1, 0, 2, 2, 2, 1, 1, 0, 2, 2, 1, 0, 1, 2, 2, 2, 0, 0, 1, 2, 2,\n",
              "       2, 2, 1, 1, 2, 2, 2, 2, 2, 2, 2, 2, 2, 2, 2, 2, 1, 2, 0, 0, 0, 2,\n",
              "       1, 0, 2, 1, 0, 2, 2, 2, 2, 2, 0, 0, 2, 2, 0, 2, 2, 2, 0, 2, 0, 2,\n",
              "       2, 2, 2, 2, 2, 2, 0, 0, 2, 1, 1, 1, 2, 0, 2, 2, 2, 2, 1, 1, 2, 2,\n",
              "       0, 2, 1, 1, 2, 0, 2, 2, 2, 2, 0, 2, 2, 2, 1, 2, 1, 0, 0, 2, 2, 0,\n",
              "       2, 2, 2, 1, 2, 1, 2, 2, 2, 2, 2, 2, 2, 2, 2, 2, 2, 2, 2, 0, 2, 0,\n",
              "       0, 1, 0, 2, 2, 2, 2, 2, 1, 2, 2, 1, 1, 2, 1, 0, 2, 1, 1, 2, 2, 2,\n",
              "       2, 0, 2, 0, 2, 1, 2, 1, 2, 2, 2, 2, 2, 2, 0, 0, 2, 2, 2, 2, 2, 2,\n",
              "       2, 0, 2, 2, 2, 0, 1, 2, 2, 0, 0, 2, 2, 1, 2, 1, 2, 2, 2])"
            ]
          },
          "metadata": {},
          "execution_count": 51
        }
      ]
    },
    {
      "cell_type": "code",
      "metadata": {
        "id": "E6lc1UvCCbZZ"
      },
      "source": [
        ""
      ],
      "execution_count": null,
      "outputs": []
    }
  ]
}